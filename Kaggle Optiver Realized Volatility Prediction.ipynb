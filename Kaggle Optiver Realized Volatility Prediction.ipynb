{
 "cells": [
  {
   "cell_type": "code",
   "execution_count": null,
   "id": "794a4fd6",
   "metadata": {},
   "outputs": [],
   "source": [
    "import glob\n",
    "import cudf\n",
    "import cupy\n",
    "from cuml import train_test_split\n",
    "import xgboost as xgb"
   ]
  },
  {
   "cell_type": "code",
   "execution_count": null,
   "id": "68b7facf",
   "metadata": {},
   "outputs": [],
   "source": [
    "path = '~/Datasets/Kaggle Optiver'\n",
    "\n",
    "list_order_book_file_train = glob.glob(f'{path}/book_train.parquet/*')\n",
    "list_order_book_file_test = glob.glob(f'{path}/book_test.parquet/*')"
   ]
  },
  {
   "cell_type": "code",
   "execution_count": null,
   "id": "ecc0dac8",
   "metadata": {},
   "outputs": [],
   "source": [
    "def bid_ask_spread(df):\n",
    "    return df['ask_price1']/df['bid_price1'] - 1\n",
    "    \n",
    "def wap_1(df):\n",
    "    price = (df['bid_price1'] * df['ask_size1'] + df['ask_price1'] * df['bid_size1'])\\\n",
    "    / (df['ask_size1'] + df['bid_size1'])\n",
    "    return price\n",
    "\n",
    "def wap_2(df):\n",
    "    price = (df['bid_price2'] * df['ask_size2'] + df['ask_price2'] * df['bid_size2'])\\\n",
    "    / (df['ask_size2'] + df['bid_size2'])\n",
    "    return price\n",
    "\n",
    "def log_return(price):\n",
    "    return cupy.diff(cupy.log(price))\n",
    "\n",
    "def volatility(log_return):\n",
    "     return cupy.sqrt(cupy.sum(cupy.square(log_return)))\n",
    "\n",
    "def data_eng(stock_data):\n",
    "    stock_data['WAP1'] = wap_1(stock_data)\n",
    "    stock_data['log_return'] = cupy.log(stock_data['WAP1'])\n",
    "    log_return_lag = stock_data.groupby('time_id')['log_return'].shift(1)\n",
    "    stock_data['log_return1'] = cudf.DataFrame(log_return_lag).reset_index(drop=True)['log_return']\n",
    "    stock_data = stock_data[~stock_data['log_return1'].isnull()]\n",
    "    stock_data['log_return'] = stock_data['log_return1'] - stock_data['log_return']\n",
    "    stock_data['log_return'] = cupy.square(stock_data['log_return'])\n",
    "    \n",
    "    df_vol = stock_data.groupby('time_id')['log_return'].sum()\n",
    "    df_vol = cudf.DataFrame(df_vol).rename(columns={'log_return':'first_10_vol'})\n",
    "    df_vol = df_vol.reset_index().rename(columns={'index':'time_id'})\n",
    "    df_vol = df_vol.sort_values(by=['time_id'])\n",
    "    df_vol['first_10_vol'] = cupy.sqrt(df_vol['first_10_vol'])\n",
    "    df_vol.sort_values(by=['time_id']).reset_index(drop=True)\n",
    "    \n",
    "    return df_vol\n",
    "\n",
    "def eng_all_stock(file_list):\n",
    "    stock_file_df = cudf.DataFrame()\n",
    "\n",
    "    \n",
    "    for file in file_list:\n",
    "        file_df = cudf.read_parquet(file)\n",
    "        all_stock_vol = data_eng(file_df)\n",
    "        all_stock_vol['stock_id'] = file.split('=')[1]\n",
    "        all_stock_vol['stock_id'] = all_stock_vol['stock_id'].astype('int32')\n",
    "        stock_file_df = cudf.concat([stock_file_df,all_stock_vol])\n",
    "        \n",
    "    \n",
    "    stock_file_df = stock_file_df[['stock_id', 'time_id', 'first_10_vol']]\n",
    "    return stock_file_df\n",
    "\n",
    "def rmspe(y_true, y_pred):\n",
    "    return  cupy.round((cupy.sqrt(cupy.mean(cupy.square((y_true - y_pred) / y_true)))),3)\n",
    "\n",
    "def submit_format(df):\n",
    "    df['row_id'] = df['stock_id'].astype(str) + '-' + df['time_id'].astype(str)\n",
    "    df = df.rename(columns={'first_10_vol':'target'})\n",
    "    df = df[['row_id','target']]\n",
    "    return df"
   ]
  },
  {
   "cell_type": "code",
   "execution_count": null,
   "id": "dfe27428",
   "metadata": {
    "scrolled": true
   },
   "outputs": [],
   "source": [
    "df_train = eng_all_stock(list_order_book_file_train)\n",
    "df_train = df_train.sort_values(by=['stock_id','time_id']).reset_index(drop=True)"
   ]
  },
  {
   "cell_type": "code",
   "execution_count": null,
   "id": "1c82263f",
   "metadata": {},
   "outputs": [],
   "source": [
    "df_train_target = cudf.read_csv(f'{path}/train.csv')"
   ]
  },
  {
   "cell_type": "code",
   "execution_count": null,
   "id": "354003a9",
   "metadata": {},
   "outputs": [],
   "source": [
    "X_train, X_test, y_train, y_test = train_test_split(df_train,df_train_target['target'],test_size=0.2)"
   ]
  },
  {
   "cell_type": "code",
   "execution_count": null,
   "id": "27c10bd7",
   "metadata": {},
   "outputs": [],
   "source": [
    "dtrain = xgb.DMatrix(X_train, label=y_train)"
   ]
  },
  {
   "cell_type": "code",
   "execution_count": null,
   "id": "6769a1ac",
   "metadata": {},
   "outputs": [],
   "source": [
    "params = {'tree_method': 'gpu_hist', 'max_depth': 20, 'learning_rate': 0.55}\n",
    "model = xgb.train(params, dtrain)\n",
    "ypred = model.predict(dtest)"
   ]
  },
  {
   "cell_type": "code",
   "execution_count": null,
   "id": "eddd6aed",
   "metadata": {},
   "outputs": [],
   "source": [
    "df_test = eng_all_stock(list_order_book_file_test)\n",
    "df_test = df_test.sort_values(by=['stock_id','time_id']).reset_index(drop=True)"
   ]
  },
  {
   "cell_type": "code",
   "execution_count": null,
   "id": "71cf273e",
   "metadata": {},
   "outputs": [],
   "source": [
    "dtest = xgb.DMatrix(df_test)\n",
    "ypred = model.predict(dtest)\n",
    "ypred = cupy.asarray(ypred)"
   ]
  },
  {
   "cell_type": "code",
   "execution_count": null,
   "id": "529147fa",
   "metadata": {},
   "outputs": [],
   "source": [
    "df_test['first_10_vol'] = ypred\n",
    "df_test = submit_format(df_test)\n",
    "df_test"
   ]
  },
  {
   "cell_type": "code",
   "execution_count": null,
   "id": "2838f209",
   "metadata": {},
   "outputs": [],
   "source": [
    "df_test.to_csv('submission.csv',index = False)"
   ]
  }
 ],
 "metadata": {
  "kernelspec": {
   "display_name": "rapids_jupyter",
   "language": "python",
   "name": "rapids-21.08"
  },
  "language_info": {
   "codemirror_mode": {
    "name": "ipython",
    "version": 3
   },
   "file_extension": ".py",
   "mimetype": "text/x-python",
   "name": "python",
   "nbconvert_exporter": "python",
   "pygments_lexer": "ipython3",
   "version": "3.8.10"
  }
 },
 "nbformat": 4,
 "nbformat_minor": 5
}
